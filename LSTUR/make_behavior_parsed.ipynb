{
 "cells": [
  {
   "cell_type": "code",
   "execution_count": 1,
   "metadata": {},
   "outputs": [
    {
     "name": "stdout",
     "output_type": "stream",
     "text": [
      "pio\n"
     ]
    }
   ],
   "source": [
    "print(\"pio\")"
   ]
  },
  {
   "cell_type": "code",
   "execution_count": 6,
   "metadata": {},
   "outputs": [
    {
     "name": "stdout",
     "output_type": "stream",
     "text": [
      "Collecting fsspec\n",
      "  Downloading fsspec-2024.10.0-py3-none-any.whl.metadata (11 kB)\n",
      "Downloading fsspec-2024.10.0-py3-none-any.whl (179 kB)\n",
      "Installing collected packages: fsspec\n",
      "Successfully installed fsspec-2024.10.0\n"
     ]
    }
   ],
   "source": [
    "!pip install fsspec"
   ]
  },
  {
   "cell_type": "code",
   "execution_count": 2,
   "metadata": {},
   "outputs": [
    {
     "name": "stdout",
     "output_type": "stream",
     "text": [
      "\n",
      "Adressa_4w / LSTUR \n",
      "make_behaviors_parsed\n"
     ]
    },
    {
     "name": "stderr",
     "output_type": "stream",
     "text": [
      "News training click count: 59453it [22:05, 44.84it/s]\n"
     ]
    }
   ],
   "source": [
    "# %%\n",
    "from config import model_name\n",
    "import pandas as pd\n",
    "from tqdm import tqdm\n",
    "import os\n",
    "import random\n",
    "import numpy as np\n",
    "import csv\n",
    "import importlib\n",
    "import copy\n",
    "from collections import Counter\n",
    "from datetime import timedelta\n",
    "import sys\n",
    "\n",
    "# A = 5 > 3\n",
    "# B = 3 > 5\n",
    "# print(A & B)\n",
    "# print(A | B)\n",
    "\n",
    "# print(os.getcwd())\n",
    "# exit()\n",
    "\n",
    "\n",
    "# config 가져오기\n",
    "try:\n",
    "    config = getattr(importlib.import_module('config'), f\"{model_name}Config\")\n",
    "    \n",
    "except AttributeError:\n",
    "    print(f\"{model_name} not included!\")\n",
    "    exit()\n",
    "\n",
    "# 불필요한 경고를 무시\n",
    "import warnings\n",
    "warnings.filterwarnings('ignore')\n",
    "\n",
    "# 문자열을 timestamp로 변환하는 함수\n",
    "from datetime import datetime\n",
    "def str_to_timestamp(string):\n",
    "    return datetime.timestamp(datetime.strptime(string,'%Y-%m-%d %H:%M:%S'))\n",
    "\n",
    "# 변수들 및 경로 설정\n",
    "model_name = 'LSTUR' # NRMS에서 수정함\n",
    "ratio = config.negative_sampling_ratio\n",
    "lifetime = config.lifetime\n",
    "preprocess_data_folder = './data/preprocessed_data'\n",
    "preprocess_type = ''         # '(type1)'/ '(type2)' / ''\n",
    "data_type = 'Adressa_4w'\n",
    "\n",
    "\n",
    "\n",
    "\n",
    "\n",
    "# total_news(raw).tsv와 behaviors.tsv 경로 설정\n",
    "print(f'\\n{data_type} / {model_name} \\nmake_behaviors_parsed')\n",
    "news_dir = f'C://Users//Big Data Science LAB//seongju//datasets//{data_type}'\n",
    "train_dir = f'C://Users//Big Data Science LAB//seongju//datasets//{data_type}/train'\n",
    "# behaviors = pd.read_table(\n",
    "#     os.path.join(train_dir,f'behaviors_parsed_ns{ratio}_lt{lifetime}.tsv'))\n",
    "# behaviors['click'] = behaviors['candidate_news_impre'].str.split(' ')[0]\n",
    "\n",
    "\n",
    "# behaviors.tsv 파일 불러오기\n",
    "behaviors = pd.read_table(\n",
    "    os.path.join(train_dir,'behaviors.tsv'),\n",
    "    header=None,\n",
    "    names=['user', 'time', 'history', 'click'])\n",
    "# click 열의 값들을 '-'를 기준으로 나눔\n",
    "behaviors.click = behaviors.click.str.split('-').str[0]\n",
    "# nan은 빈 문자열 처리\n",
    "behaviors.history.fillna(' ', inplace=True)\n",
    "\n",
    "# %%\n",
    "#### edited JW\n",
    "\n",
    "# time열 datetime 자료형으로 변환\n",
    "behaviors['time'] = pd.to_datetime(behaviors['time'])\n",
    "##\n",
    "added_columns_list = []\n",
    "\n",
    "# total_news(raw).tsv 불러오기\n",
    "news = pd.read_table(os.path.join(news_dir, 'total_news(raw).tsv'),\n",
    "                    quoting=csv.QUOTE_NONE,\n",
    "                    header=None,\n",
    "                    names=['id','publish_time','title','clicks','category'])  # TODO try to avoid csv.QUOTE_NONE\n",
    "\"\"\"바로 위 names 순서 고침\"\"\"\n",
    "\n",
    "# category와 subcategory로 나누기\n",
    "news[['category', 'subcategory']] = news['category'].str.split('|', expand=True)\n",
    "\n",
    "# publish_time 열 datetime 자료형으로 변환\n",
    "news['publish_time'] = pd.to_datetime(news['publish_time'])\n",
    "# 뉴스 id를 index로 설정\n",
    "news = news.set_index(['id'])\n",
    "news.fillna(' ', inplace=True)\n",
    "# news에 여러 종류의 클릭 수를 저장하는 새로운 columns 생성\n",
    "news['train_click'] = 0\n",
    "news['his_click'] = 0\n",
    "news['lifetime_click'] = 0\n",
    "news['current_lifetime_click'] = 0\n",
    "\n",
    "\n",
    "# 클릭 열 카운트\n",
    "train_click_cnt = behaviors['click'].value_counts()\n",
    "# 유저 별 히스토리로 나눈 다음 {유저: 클릭 수} 형태로 dict에 저장\n",
    "history_click = behaviors.groupby(by='user')['history'].last()\n",
    "history_click_list = history_click.str.cat(sep=' ').split()\n",
    "history_click_cnt = dict(Counter(history_click_list))\n",
    "# train_click 열과 his_click 열에 위에서 구한 cnt 저장\n",
    "for i,row in tqdm(news.iterrows(),desc=\"News training click count\"):\n",
    "    try:\n",
    "        news.at[i,'train_click'] = train_click_cnt[i]\n",
    "    except:\n",
    "        pass\n",
    "\n",
    "    try:\n",
    "        news.at[i,'his_click'] = history_click_cnt[i]\n",
    "    except:\n",
    "        pass\n",
    "    # print(type(row.publish_time))\n",
    "    # print('row.publish_time', row.publish_time)\n",
    "    # print(timedelta(hours=lifetime), '\\n')\n",
    "    # sys.exit()\n",
    "    \n",
    "    # end_time: 수명이 끝나는 시간\n",
    "    end_time = row.publish_time + timedelta(hours=lifetime)\n",
    "    # 유효한 수명 시간에 존재하는 클릭 기록들 추출\n",
    "    behavior_mask = (behaviors['time']<= end_time) & (behaviors['time'] >= row.publish_time)\n",
    "    behaviors_tmp = behaviors.loc[behavior_mask]\n",
    "    # 추출한 애들 클릭 수 계산해서 dict에 저장\n",
    "    click_cnt = dict(Counter(behaviors_tmp['click'].str.cat(sep=' ').split()))\n",
    "    # 저장한 수명 클릭 수를 news의 lifetime_click 열에 저장\n",
    "    try:\n",
    "        news.at[i,'lifetime_click'] = click_cnt[i]\n",
    "    except:\n",
    "        pass\n",
    "# news의 all_click 열은 behaviors의 뉴스 당 카운트 수와 유저 별 클릭 수의 합으로 저장\n",
    "news['all_click'] = news['train_click'] + news['his_click']\n",
    "\n",
    "# news의 lifetime_click 열의 값들을 내림차순으로 정렬\n",
    "news = news.sort_values(by=['lifetime_click'], ascending=False)\n",
    "\n",
    "# behaviors의 click 열을 유저 별로 나눠서 user_poslist에 저장\n",
    "user_poslist = behaviors.groupby(by='user')['click'].apply(lambda x: ','.join(x))\n"
   ]
  },
  {
   "cell_type": "code",
   "execution_count": 5,
   "metadata": {},
   "outputs": [
    {
     "data": {
      "text/html": [
       "<div>\n",
       "<style scoped>\n",
       "    .dataframe tbody tr th:only-of-type {\n",
       "        vertical-align: middle;\n",
       "    }\n",
       "\n",
       "    .dataframe tbody tr th {\n",
       "        vertical-align: top;\n",
       "    }\n",
       "\n",
       "    .dataframe thead th {\n",
       "        text-align: right;\n",
       "    }\n",
       "</style>\n",
       "<table border=\"1\" class=\"dataframe\">\n",
       "  <thead>\n",
       "    <tr style=\"text-align: right;\">\n",
       "      <th></th>\n",
       "      <th>publish_time</th>\n",
       "      <th>title</th>\n",
       "      <th>clicks</th>\n",
       "      <th>category</th>\n",
       "      <th>subcategory</th>\n",
       "      <th>train_click</th>\n",
       "      <th>his_click</th>\n",
       "      <th>lifetime_click</th>\n",
       "      <th>current_lifetime_click</th>\n",
       "      <th>all_click</th>\n",
       "    </tr>\n",
       "    <tr>\n",
       "      <th>id</th>\n",
       "      <th></th>\n",
       "      <th></th>\n",
       "      <th></th>\n",
       "      <th></th>\n",
       "      <th></th>\n",
       "      <th></th>\n",
       "      <th></th>\n",
       "      <th></th>\n",
       "      <th></th>\n",
       "      <th></th>\n",
       "    </tr>\n",
       "  </thead>\n",
       "  <tbody>\n",
       "    <tr>\n",
       "      <th>N5704</th>\n",
       "      <td>2017-02-09 07:39:00</td>\n",
       "      <td>Norsk landslagsprofil solgt til Kina for rekor...</td>\n",
       "      <td>2017-02-10 08:00:02,2017-02-10 08:00:12,2017-0...</td>\n",
       "      <td>100sport</td>\n",
       "      <td>fotball</td>\n",
       "      <td>1</td>\n",
       "      <td>0</td>\n",
       "      <td>0</td>\n",
       "      <td>0</td>\n",
       "      <td>1</td>\n",
       "    </tr>\n",
       "    <tr>\n",
       "      <th>N45344</th>\n",
       "      <td>2017-03-03 14:27:47</td>\n",
       "      <td>FN bekymret for tortur-bruk på Sri Lanka</td>\n",
       "      <td>2017-03-03 23:50:16,2017-03-03 23:51:41,2017-0...</td>\n",
       "      <td>nyheter</td>\n",
       "      <td>utenriks</td>\n",
       "      <td>0</td>\n",
       "      <td>0</td>\n",
       "      <td>0</td>\n",
       "      <td>0</td>\n",
       "      <td>0</td>\n",
       "    </tr>\n",
       "    <tr>\n",
       "      <th>N45332</th>\n",
       "      <td>2015-06-12 13:59:45</td>\n",
       "      <td>Godbiter fra Argentina</td>\n",
       "      <td>2017-03-03 23:48:26,2017-03-04 04:26:52,2017-0...</td>\n",
       "      <td>kultur</td>\n",
       "      <td>vin</td>\n",
       "      <td>0</td>\n",
       "      <td>0</td>\n",
       "      <td>0</td>\n",
       "      <td>0</td>\n",
       "      <td>0</td>\n",
       "    </tr>\n",
       "    <tr>\n",
       "      <th>N45333</th>\n",
       "      <td>2012-10-05 11:31:59</td>\n",
       "      <td>- Hadde aldri vært der jeg er uten City Syd</td>\n",
       "      <td>2017-03-03 23:48:31,2017-03-05 06:47:07</td>\n",
       "      <td>nyheter</td>\n",
       "      <td>trondheim</td>\n",
       "      <td>0</td>\n",
       "      <td>0</td>\n",
       "      <td>0</td>\n",
       "      <td>0</td>\n",
       "      <td>0</td>\n",
       "    </tr>\n",
       "    <tr>\n",
       "      <th>N45334</th>\n",
       "      <td>2016-01-10 19:00:05</td>\n",
       "      <td>Etter å ha trent minst fem timer dagen over en...</td>\n",
       "      <td>2017-03-03 23:48:47,2017-03-07 06:52:56,2017-0...</td>\n",
       "      <td>100sport</td>\n",
       "      <td>sprek</td>\n",
       "      <td>0</td>\n",
       "      <td>0</td>\n",
       "      <td>0</td>\n",
       "      <td>0</td>\n",
       "      <td>0</td>\n",
       "    </tr>\n",
       "  </tbody>\n",
       "</table>\n",
       "</div>"
      ],
      "text/plain": [
       "              publish_time                                              title  \\\n",
       "id                                                                              \n",
       "N5704  2017-02-09 07:39:00  Norsk landslagsprofil solgt til Kina for rekor...   \n",
       "N45344 2017-03-03 14:27:47           FN bekymret for tortur-bruk på Sri Lanka   \n",
       "N45332 2015-06-12 13:59:45                             Godbiter fra Argentina   \n",
       "N45333 2012-10-05 11:31:59        - Hadde aldri vært der jeg er uten City Syd   \n",
       "N45334 2016-01-10 19:00:05  Etter å ha trent minst fem timer dagen over en...   \n",
       "\n",
       "                                                   clicks  category  \\\n",
       "id                                                                    \n",
       "N5704   2017-02-10 08:00:02,2017-02-10 08:00:12,2017-0...  100sport   \n",
       "N45344  2017-03-03 23:50:16,2017-03-03 23:51:41,2017-0...   nyheter   \n",
       "N45332  2017-03-03 23:48:26,2017-03-04 04:26:52,2017-0...    kultur   \n",
       "N45333            2017-03-03 23:48:31,2017-03-05 06:47:07   nyheter   \n",
       "N45334  2017-03-03 23:48:47,2017-03-07 06:52:56,2017-0...  100sport   \n",
       "\n",
       "       subcategory  train_click  his_click  lifetime_click  \\\n",
       "id                                                           \n",
       "N5704      fotball            1          0               0   \n",
       "N45344    utenriks            0          0               0   \n",
       "N45332         vin            0          0               0   \n",
       "N45333   trondheim            0          0               0   \n",
       "N45334       sprek            0          0               0   \n",
       "\n",
       "        current_lifetime_click  all_click  \n",
       "id                                         \n",
       "N5704                        0          1  \n",
       "N45344                       0          0  \n",
       "N45332                       0          0  \n",
       "N45333                       0          0  \n",
       "N45334                       0          0  "
      ]
     },
     "execution_count": 5,
     "metadata": {},
     "output_type": "execute_result"
    }
   ],
   "source": [
    "news.head()\n"
   ]
  },
  {
   "cell_type": "code",
   "execution_count": 6,
   "metadata": {},
   "outputs": [
    {
     "name": "stdout",
     "output_type": "stream",
     "text": [
      "(3125173, 4)\n",
      "  user                time                                            history  \\\n",
      "0   U1 2017-02-10 08:00:02                                     N1 N1560 N1794   \n",
      "1   U2 2017-02-10 08:00:02           N2 N89 N68 N1100 N1103 N12 N1085 N109 N6   \n",
      "2   U3 2017-02-10 08:00:02                                            N3 N582   \n",
      "3   U4 2017-02-10 08:00:02                 N1662 N1515 N1134 N4 N1725 N12 N16   \n",
      "4   U5 2017-02-10 08:00:02                                            N630 N5   \n",
      "5   U6 2017-02-10 08:00:02                                           N1134 N6   \n",
      "6   U7 2017-02-10 08:00:03                                        N4 N36 N417   \n",
      "7   U8 2017-02-10 08:00:03                                             N22 N5   \n",
      "8   U9 2017-02-10 08:00:03                                                 N7   \n",
      "9  U10 2017-02-10 08:00:03  N939 N7 N1636 N417 N1528 N1515 N1134 N1819 N17...   \n",
      "\n",
      "   click  \n",
      "0  N1895  \n",
      "1  N1896  \n",
      "2  N1897  \n",
      "3  N1898  \n",
      "4  N1899  \n",
      "5  N1900  \n",
      "6  N1898  \n",
      "7  N1899  \n",
      "8  N1901  \n",
      "9  N1901  \n"
     ]
    }
   ],
   "source": [
    "print(behaviors.shape)\n",
    "print(behaviors[:10])"
   ]
  },
  {
   "cell_type": "code",
   "execution_count": null,
   "metadata": {},
   "outputs": [
    {
     "name": "stderr",
     "output_type": "stream",
     "text": [
      "Generate candidate_news_current_log_pop and candidate_news_rev_current_log_pop: 99997it [59:39, 19.07it/s]"
     ]
    },
    {
     "name": "stdout",
     "output_type": "stream",
     "text": [
      "k: 100000\n",
      "time: 1731408653.1501272\n"
     ]
    },
    {
     "name": "stderr",
     "output_type": "stream",
     "text": [
      "Generate candidate_news_current_log_pop and candidate_news_rev_current_log_pop: 100001it [59:49,  1.04it/s]"
     ]
    },
    {
     "name": "stdout",
     "output_type": "stream",
     "text": [
      "파일이 저장되었습니다: behaviors_parsed_ns4_lt361.tsv \n",
      "\n"
     ]
    },
    {
     "name": "stderr",
     "output_type": "stream",
     "text": [
      "Generate candidate_news_current_log_pop and candidate_news_rev_current_log_pop: 199997it [2:52:51, 11.94it/s]"
     ]
    },
    {
     "name": "stdout",
     "output_type": "stream",
     "text": [
      "k: 200000\n",
      "time: 1731415444.6390374\n"
     ]
    },
    {
     "name": "stderr",
     "output_type": "stream",
     "text": [
      "Generate candidate_news_current_log_pop and candidate_news_rev_current_log_pop: 199999it [2:53:01,  1.54s/it]"
     ]
    },
    {
     "name": "stdout",
     "output_type": "stream",
     "text": [
      "파일이 저장되었습니다: behaviors_parsed_ns4_lt361.tsv \n",
      "\n"
     ]
    },
    {
     "name": "stderr",
     "output_type": "stream",
     "text": [
      "Generate candidate_news_current_log_pop and candidate_news_rev_current_log_pop: 299998it [5:41:06,  9.01it/s]"
     ]
    },
    {
     "name": "stdout",
     "output_type": "stream",
     "text": [
      "k: 300000\n",
      "time: 1731425539.9283617\n"
     ]
    },
    {
     "name": "stderr",
     "output_type": "stream",
     "text": [
      "Generate candidate_news_current_log_pop and candidate_news_rev_current_log_pop: 299999it [5:41:16,  3.08s/it]"
     ]
    },
    {
     "name": "stdout",
     "output_type": "stream",
     "text": [
      "파일이 저장되었습니다: behaviors_parsed_ns4_lt361.tsv \n",
      "\n"
     ]
    },
    {
     "name": "stderr",
     "output_type": "stream",
     "text": [
      "Generate candidate_news_current_log_pop and candidate_news_rev_current_log_pop: 399997it [8:52:27, 11.42it/s]"
     ]
    },
    {
     "name": "stdout",
     "output_type": "stream",
     "text": [
      "k: 400000\n",
      "time: 1731437020.5383053\n"
     ]
    },
    {
     "name": "stderr",
     "output_type": "stream",
     "text": [
      "Generate candidate_news_current_log_pop and candidate_news_rev_current_log_pop: 399999it [8:52:37,  1.58s/it]"
     ]
    },
    {
     "name": "stdout",
     "output_type": "stream",
     "text": [
      "파일이 저장되었습니다: behaviors_parsed_ns4_lt361.tsv \n",
      "\n"
     ]
    },
    {
     "name": "stderr",
     "output_type": "stream",
     "text": [
      "Generate candidate_news_current_log_pop and candidate_news_rev_current_log_pop: 499998it [11:20:54, 11.76it/s]"
     ]
    },
    {
     "name": "stdout",
     "output_type": "stream",
     "text": [
      "k: 500000\n",
      "time: 1731445928.0820024\n"
     ]
    },
    {
     "name": "stderr",
     "output_type": "stream",
     "text": [
      "Generate candidate_news_current_log_pop and candidate_news_rev_current_log_pop: 500000it [11:21:04,  1.58s/it]"
     ]
    },
    {
     "name": "stdout",
     "output_type": "stream",
     "text": [
      "파일이 저장되었습니다: behaviors_parsed_ns4_lt361.tsv \n",
      "\n"
     ]
    },
    {
     "name": "stderr",
     "output_type": "stream",
     "text": [
      "Generate candidate_news_current_log_pop and candidate_news_rev_current_log_pop: 599998it [13:34:47, 11.44it/s]"
     ]
    },
    {
     "name": "stdout",
     "output_type": "stream",
     "text": [
      "k: 600000\n",
      "time: 1731453960.427538\n"
     ]
    },
    {
     "name": "stderr",
     "output_type": "stream",
     "text": [
      "Generate candidate_news_current_log_pop and candidate_news_rev_current_log_pop: 600000it [13:34:57,  1.59s/it]"
     ]
    },
    {
     "name": "stdout",
     "output_type": "stream",
     "text": [
      "파일이 저장되었습니다: behaviors_parsed_ns4_lt361.tsv \n",
      "\n"
     ]
    },
    {
     "name": "stderr",
     "output_type": "stream",
     "text": [
      "Generate candidate_news_current_log_pop and candidate_news_rev_current_log_pop: 690734it [16:07:13,  7.93it/s]"
     ]
    }
   ],
   "source": [
    "\"\"\"여기서 궁극적으로 하고 싶은 건 이 유저가 선택 안 한 애들 중에서, 다른 유저의 클릭 중 유효한 뉴스 수명을 가진 애만 남김\n",
    "여기서, weight를 계산하는 것으로 인기도를 고려해서 인기 높은 뉴스를 negative sampling + 인기 낮은 뉴스를 negative sampling\n",
    "그런 관점에서 아래 코드를 다시 보자\"\"\"\n",
    "import time\n",
    "from datetime import datetime\n",
    "\n",
    "k = 1\n",
    "for row in tqdm(behaviors[:1000000].itertuples(), desc=f\"Generate {new_column_name} and {new_column_name2}\"):\n",
    "    \"\"\"row: 'user', 'time', 'history', 'click' 순으로 저장된 한 유저의 클릭 정보\n",
    "    여기서, 클릭한 뉴스는 오직 하나!\n",
    "    타임은 그 뉴스를 클릭한 시간\"\"\"\n",
    "\n",
    "    # 진행 상황 체크\n",
    "    k += 1\n",
    "    if k % 100000 == 0:\n",
    "        print(\"k:\", k)\n",
    "\n",
    "        # 현재 Unix 타임스탬프를 연도, 날짜, 시간으로 변환\n",
    "        timestamp = time.time()\n",
    "        formatted_time = datetime.fromtimestamp(timestamp).strftime('%Y-%m-%d %H:%M:%S')\n",
    "        print(\"time:\", time.time())\n",
    "\n",
    "        # 현재까지의 데이터를 파일에 저장 (덮어쓰기)\n",
    "        behaviors.to_csv(\n",
    "                os.path.join(train_dir,f'behaviors_parsed_ns{ratio}_lt{lifetime}1.tsv'),\n",
    "                sep='\\t',\n",
    "                index=False)\n",
    "        print(f\"파일이 저장되었습니다:\", f'behaviors_parsed_ns{ratio}_lt{lifetime}1.tsv', '\\n')\n",
    "    \n",
    "    \n",
    "    endtime = row.time - timedelta(hours=lifetime)\n",
    "    \"\"\"poslist: 현재 행 (row)의 유저가 클릭한 뉴스 리스트\"\"\"\n",
    "    poslist = user_poslist.loc[row.user].split(',')\n",
    "\n",
    "    \"\"\"여기서, mask의 역할: 수명 시간 내에 속한 뉴스만 골라냄\n",
    "        mask 조건 해석: 뉴스 수명 한계 시간 <= 게시 시간 & 게시 시간 <= 클릭 시간\n",
    "        mask: news의 모든 행에 대해 이런 형식 ([True, False, False, ..., True] )의 list\"\"\"\n",
    "    mask = (news['publish_time'] <= row.time) & (news['publish_time'] >= endtime)\n",
    "    \"\"\"news_negative_candidate shape: (198,); 달리 말하면, 현재 시점 (row.time)에 대해 유효한 수명을 가진 모든 뉴스의 집합\"\"\"\n",
    "    news_negative_candidate = copy.copy(news.loc[mask])\n",
    "    behavior_mask = (behaviors['time']<= row.time) & (behaviors['time'] >= endtime)\n",
    "    behaviors_tmp = behaviors.loc[behavior_mask] # 모든 유저의 히스토리 중 유효한 수명을 가진 히스토리만 남김; U1의 클릭에 대해서는 6개만 생존\n",
    "    \"\"\"click_cnt shape: (6,)\"\"\"\n",
    "    click_cnt = dict(Counter(behaviors_tmp['click'].str.cat(sep=' ').split()))\n",
    "\n",
    "    \"\"\"click_cnt에 속하는 6개의 뉴스가 news_negative candidate에 없으면, current_lifetime_click의 값들은 모두 nan\"\"\"\n",
    "    news_negative_candidate['current_lifetime_click'] = news_negative_candidate.index.map(click_cnt)\n",
    "    news_negative_candidate.dropna(thresh=2,inplace=True) # debug 1. current_lifetime_click 확인\n",
    "    \n",
    "    \"\"\" ####################################### 내가 추가한 부분\"\"\"\n",
    "    news_negative_candidate['current_lifetime_click'].fillna(0, inplace=True)\n",
    "\n",
    "    news_negative_list = news_negative_candidate.index.to_list() # (198,)\n",
    "    \"\"\"news_weight shape: (198,)\"\"\"\n",
    "    news_weight = news_negative_candidate.current_lifetime_click.to_list() \n",
    "    news_weight = [np.log(x+2) for x in news_weight] # debug 2. log 전 news_weight 확인\n",
    "\n",
    "    for del_news in set(news_negative_list).intersection(poslist): # debug 3. log 후 news_weight 확인\n",
    "        del_index = news_negative_list.index(del_news)\n",
    "\n",
    "        del news_negative_list[del_index]\n",
    "        del news_weight[del_index]\n",
    "    \"\"\"삭제 끝\"\"\"\n",
    "    \n",
    "    candidate_news = [row.click]\n",
    "\n",
    "    if ratio > len(news_negative_list):\n",
    "        times = (ratio//len(news_negative_list)+1)\n",
    "        news_negative_list = news_negative_list*times\n",
    "\n",
    "        news_weight = news_weight*times\n",
    "\n",
    "    news_negative_list2 = copy.copy(news_negative_list)\n",
    "    news_weight2 = [1/x for x in news_weight]\n",
    "    candidate_news2 = copy.copy(candidate_news)\n",
    "\n",
    "    for i in range(ratio): # debug 4. 코드 실행 전 news_weight 최종 확인\n",
    "        ns = random.choices(news_negative_list,k=1,weights = news_weight) # error\n",
    "\n",
    "        candidate_news.append(ns[0])\n",
    "        del_index = news_negative_list.index(ns[0])\n",
    "\n",
    "        del news_negative_list[del_index]\n",
    "        del news_weight[del_index]\n",
    "\n",
    "    for i in range(ratio):\n",
    "        ns = random.choices(news_negative_list2,k=1,weights = news_weight2)\n",
    "\n",
    "        candidate_news2.append(ns[0])\n",
    "        del_index = news_negative_list2.index(ns[0])\n",
    "\n",
    "        del news_negative_list2[del_index]\n",
    "        del news_weight2[del_index]\n",
    "\n",
    "    behaviors.at[row.Index,new_column_name] = ' '.join(candidate_news)\n",
    "    behaviors.at[row.Index,new_column_name2] = ' '.join(candidate_news2)\n",
    "    # tmp_cnt += 1\n",
    "    # if tmp_cnt == 1000:\n",
    "    #     break\n",
    "    \"\"\"여기까지가 row에 대한 for문\"\"\"\n",
    "    \n",
    "added_columns_list.append(new_column_name.replace('candidate_news_','',1))\n",
    "added_columns_list.append(new_column_name2.replace('candidate_news_','',1))\n",
    "\n",
    "\n",
    "# %%\n",
    "behaviors['clicked'] = ' '.join(['1']+['0']*ratio)\n",
    "del behaviors['click']\n",
    "try:\n",
    "    behaviors.rename(columns={'history': 'clicked_news'}, inplace=True)\n",
    "except:\n",
    "    pass\n",
    "behaviors.to_csv(\n",
    "        os.path.join(train_dir,f'behaviors_parsed_ns{ratio}_lt{lifetime}1.tsv'),\n",
    "        sep='\\t',\n",
    "        index=False)\n",
    "\n",
    "# 19시 50분: 첫 파일 저장 시간"
   ]
  },
  {
   "cell_type": "code",
   "execution_count": null,
   "metadata": {},
   "outputs": [],
   "source": []
  },
  {
   "cell_type": "code",
   "execution_count": 4,
   "metadata": {},
   "outputs": [
    {
     "name": "stdout",
     "output_type": "stream",
     "text": [
      "4\n"
     ]
    }
   ],
   "source": [
    "print(i)"
   ]
  },
  {
   "cell_type": "code",
   "execution_count": null,
   "metadata": {},
   "outputs": [],
   "source": []
  }
 ],
 "metadata": {
  "kernelspec": {
   "display_name": "adressa_preprocess",
   "language": "python",
   "name": "adressa_preprocess"
  },
  "language_info": {
   "codemirror_mode": {
    "name": "ipython",
    "version": 3
   },
   "file_extension": ".py",
   "mimetype": "text/x-python",
   "name": "python",
   "nbconvert_exporter": "python",
   "pygments_lexer": "ipython3",
   "version": "3.12.4"
  }
 },
 "nbformat": 4,
 "nbformat_minor": 2
}
